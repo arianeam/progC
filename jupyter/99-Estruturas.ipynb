{
 "cells": [
  {
   "cell_type": "markdown",
   "metadata": {},
   "source": [
    "# Estruturas em C\n",
    "\n",
    "Estruturas em C são variáveis que agrupam dados de diferentes tipos. As estruturas são utilizadas para a criação de objetos e classes em C para formar novos tipos de dados customizados.\n",
    "\n",
    "Para exemplificar, podemos construir uma estrutura para armazenar os dados dos veículos da sua família."
   ]
  },
  {
   "cell_type": "code",
   "execution_count": 1,
   "metadata": {
    "collapsed": false
   },
   "outputs": [
    {
     "name": "stdout",
     "output_type": "stream",
     "text": [
      "Marca: Ford GT\n",
      "Ano: 1965\n"
     ]
    }
   ],
   "source": [
    "#include <stdio.h>\n",
    "\n",
    "/* Definição global do tipo */\n",
    "struct veiculo{\n",
    "    char marca[16];\n",
    "    int ano;\n",
    "};\n",
    "\n",
    "int main(){\n",
    "    \n",
    "    /* Criação da variável meu_ford */\n",
    "    struct veiculo meu_ford = {\"Ford GT\", 1965};\n",
    "    \n",
    "    /* O operador ponto é utilizado para acessar os membros de estruturas */\n",
    "    printf(\"Marca: %s\\n\", meu_ford.marca);\n",
    "    printf(\"Ano: %d\\n\", meu_ford.ano);\n",
    "\n",
    "    return 0;\n",
    "}"
   ]
  },
  {
   "cell_type": "markdown",
   "metadata": {
    "collapsed": true
   },
   "source": [
    "Estruturas também podem ser utilizadas para criar dados matemáticos personalizados, como números complexos:"
   ]
  },
  {
   "cell_type": "code",
   "execution_count": null,
   "metadata": {
    "collapsed": true
   },
   "outputs": [],
   "source": [
    "#include <stdio.h>\n",
    "#include <math.h>\n",
    "\n",
    "/* Coordenadas polares */\n",
    "struct polares {\n",
    "    float modulo;\n",
    "    float angulo;\n",
    "};\n",
    "\n",
    "/* Número complexo: coordenadas cartesiandas e polares */\n",
    "struct complexo {\n",
    "    float real;\n",
    "    float img;\n",
    "    struct polares polar;\n",
    "};\n",
    "\n",
    "/* Módulo de um número complexo */\n",
    "float modulo (struct complexo a){\n",
    "    return sqrt(pow(a.real,2) + pow(a.img,2));\n",
    "}\n",
    "\n",
    "/* Soma de um número complexo */\n",
    "struct complexo soma (struct complexo a, struct complexo b){\n",
    "    struct complexo soma;\n",
    "    \n",
    "    soma.real = a.real + b.real;\n",
    "    soma.img = a.img + b.img;    \n",
    "    \n",
    "    return soma;\n",
    "}\n",
    "\n",
    "/* Impressão de um número complexo */\n",
    "void imprimir(struct complexo z) {\n",
    "    printf(\"Real: %f\\n\", z.real);\n",
    "    printf(\"Img: %f\\n\", z.img);\n",
    "    \n",
    "}\n",
    "\n",
    "int main(){\n",
    "    \n",
    "    /* Três números complexos estruturados */\n",
    "    /* Inicialização na criação */\n",
    "    struct complexo a = { 3, 4, {5, 0.785398}};\n",
    "    struct complexo b, c;\n",
    "    \n",
    "    /* Inicialização por atribuição */\n",
    "    b.real = 9;\n",
    "    b.img = 5;\n",
    "    \n",
    "    /* Módulo de b */\n",
    "    b.polar.modulo = modulo(b);\n",
    "    \n",
    "    printf(\"Modulo de b: %f\\n\", b.polar.modulo);\n",
    "    \n",
    "    c = soma(a,b);\n",
    "    \n",
    "    imprimir(c);     \n",
    "    \n",
    "    return 0;\n",
    "}"
   ]
  },
  {
   "cell_type": "markdown",
   "metadata": {},
   "source": [
    "## Exercícios\n",
    "\n",
    "1. Defina uma nova estrutura, chamada pessoa, que contenha uma string chamada nome e um inteiro chamado idade:"
   ]
  },
  {
   "cell_type": "code",
   "execution_count": null,
   "metadata": {
    "collapsed": true
   },
   "outputs": [],
   "source": [
    "#include <stdio.h>\n",
    "\n",
    "/* Defina a estrutura pessoa aqui */\n",
    "\n",
    "\n",
    "\n",
    "\n",
    "int main() {\n",
    "    struct pessoa john;\n",
    "    \n",
    "    /* testando o código */\n",
    "    scanf(\"%s %d\", john.nome, john.idade)\n",
    "    \n",
    "    printf(\"%s tem %d anos.\", john.nome, john.idade);\n",
    "}"
   ]
  },
  {
   "cell_type": "markdown",
   "metadata": {},
   "source": [
    "2. Novo exercício:"
   ]
  }
 ],
 "metadata": {
  "kernelspec": {
   "display_name": "C",
   "language": "c",
   "name": "c"
  },
  "language_info": {
   "file_extension": ".c",
   "mimetype": "text/plain",
   "name": "c"
  }
 },
 "nbformat": 4,
 "nbformat_minor": 2
}
